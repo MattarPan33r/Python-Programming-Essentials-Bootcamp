{
  "nbformat": 4,
  "nbformat_minor": 0,
  "metadata": {
    "colab": {
      "provenance": [],
      "authorship_tag": "ABX9TyOyfwOtk0KG7WmGN3PFWU54",
      "include_colab_link": true
    },
    "kernelspec": {
      "name": "python3",
      "display_name": "Python 3"
    },
    "language_info": {
      "name": "python"
    },
    "accelerator": "GPU",
    "gpuClass": "standard"
  },
  "cells": [
    {
      "cell_type": "markdown",
      "metadata": {
        "id": "view-in-github",
        "colab_type": "text"
      },
      "source": [
        "<a href=\"https://colab.research.google.com/github/MattarPan33r/Python-Programming-Essentials-Bootcamp/blob/main/Assignment_1.ipynb\" target=\"_parent\"><img src=\"https://colab.research.google.com/assets/colab-badge.svg\" alt=\"Open In Colab\"/></a>"
      ]
    },
    {
      "cell_type": "markdown",
      "source": [
        "*********************************ASSIGNMENT 1***********************************\n",
        "\n",
        "Python Program for simple interest\n",
        "\n",
        "\n",
        "Simple interest formula is given by: \n",
        "\n",
        "Simple Interest = (P x T x R)/100 \n",
        "\n",
        "Where, P is the principal amount \n",
        "\n",
        "T is the time  \n",
        "\n",
        "R is the rate."
      ],
      "metadata": {
        "id": "FX7KmoENZ8P8"
      }
    },
    {
      "cell_type": "code",
      "source": [
        "P=float(input('Enter Principal Amount:\\n'))\n",
        "T=float(input('Enter Time:\\n'))\n",
        "R=float(input('Enter Rate:\\n'))\n",
        "SI =(P * T * R)/100\n",
        "print('Simple Interest:',SI)"
      ],
      "metadata": {
        "colab": {
          "base_uri": "https://localhost:8080/"
        },
        "id": "Is4lyQqUUBVv",
        "outputId": "a7555e11-c7fb-4b7e-80c3-e44d94d18392"
      },
      "execution_count": 1,
      "outputs": [
        {
          "output_type": "stream",
          "name": "stdout",
          "text": [
            "Enter Principal Amount:\n",
            "2000\n",
            "Enter Time:\n",
            "5\n",
            "Enter Rate:\n",
            "5\n",
            "Simple Interest: 500.0\n"
          ]
        }
      ]
    }
  ]
}