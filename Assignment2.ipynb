{
  "nbformat": 4,
  "nbformat_minor": 0,
  "metadata": {
    "colab": {
      "provenance": [],
      "authorship_tag": "ABX9TyMs6cEFqZ6EyDfnrvidcfsZ",
      "include_colab_link": true
    },
    "kernelspec": {
      "name": "python3",
      "display_name": "Python 3"
    },
    "language_info": {
      "name": "python"
    }
  },
  "cells": [
    {
      "cell_type": "markdown",
      "metadata": {
        "id": "view-in-github",
        "colab_type": "text"
      },
      "source": [
        "<a href=\"https://colab.research.google.com/github/MattarPan33r/Python-Programming-Essentials-Bootcamp/blob/main/Assignment2.ipynb\" target=\"_parent\"><img src=\"https://colab.research.google.com/assets/colab-badge.svg\" alt=\"Open In Colab\"/></a>"
      ]
    },
    {
      "cell_type": "markdown",
      "source": [
        "Python program to find smallest number in a list\n",
        "\n",
        "Using function \n",
        "\n",
        "\n",
        "\n",
        "Input : list1 = [5, 7, 9, 14, 10, 20, 4] \n",
        "\n",
        "Output : 4"
      ],
      "metadata": {
        "id": "OPmVkDR9EZqo"
      }
    },
    {
      "cell_type": "code",
      "source": [
        "def smallest(numbers):\n",
        "  smallest= numbers[0]\n",
        "  for num in numbers:\n",
        "    if num<smallest:\n",
        "      smallest=num\n",
        "  return smallest\n",
        "\n",
        "list1=[5,7,9,14,10,20,4]\n",
        "print(\"The smallest number in\",list1,\"is\",smallest(list1))"
      ],
      "metadata": {
        "colab": {
          "base_uri": "https://localhost:8080/"
        },
        "id": "dA3QOrBOEbnO",
        "outputId": "0e2eb47c-8337-428c-d788-7b0684fe3351"
      },
      "execution_count": 1,
      "outputs": [
        {
          "output_type": "stream",
          "name": "stdout",
          "text": [
            "The smallest number in [5, 7, 9, 14, 10, 20, 4] is 4\n"
          ]
        }
      ]
    }
  ]
}