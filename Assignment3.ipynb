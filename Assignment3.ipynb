{
  "nbformat": 4,
  "nbformat_minor": 0,
  "metadata": {
    "colab": {
      "provenance": [],
      "authorship_tag": "ABX9TyPekXbaMnb2CMEqjRVme1k5",
      "include_colab_link": true
    },
    "kernelspec": {
      "name": "python3",
      "display_name": "Python 3"
    },
    "language_info": {
      "name": "python"
    }
  },
  "cells": [
    {
      "cell_type": "markdown",
      "metadata": {
        "id": "view-in-github",
        "colab_type": "text"
      },
      "source": [
        "<a href=\"https://colab.research.google.com/github/MattarPan33r/Python-Programming-Essentials-Bootcamp/blob/main/Assignment3.ipynb\" target=\"_parent\"><img src=\"https://colab.research.google.com/assets/colab-badge.svg\" alt=\"Open In Colab\"/></a>"
      ]
    },
    {
      "cell_type": "markdown",
      "source": [
        "Python Program for factorial of a number using function, loop and if else conditions.\n",
        "\n",
        "\n",
        "\n",
        "For example factorial of 5 is 5x4x3x2x1 which is 120\n",
        "\n",
        "\n",
        "\n",
        "Input =5\n",
        "\n",
        "Output =120"
      ],
      "metadata": {
        "id": "WzDch-RvBdGS"
      }
    },
    {
      "cell_type": "code",
      "source": [
        "def factorial(n):\n",
        "  if n==0:\n",
        "    return 1\n",
        "  else:\n",
        "    fact=1\n",
        "    for i in range(1,n+1):\n",
        "      fact=fact*i\n",
        "    return fact\n",
        "\n",
        "n= int(input(\"Enter Number:\"))\n",
        "print(\"Factorial of\", n, \"is\", factorial(n))"
      ],
      "metadata": {
        "colab": {
          "base_uri": "https://localhost:8080/"
        },
        "id": "pxawQ0BPBgKG",
        "outputId": "a74a0213-ef52-4017-de7c-218b08f60d00"
      },
      "execution_count": 2,
      "outputs": [
        {
          "output_type": "stream",
          "name": "stdout",
          "text": [
            "Enter Number:5\n",
            "Factorial of 5 is 120\n"
          ]
        }
      ]
    }
  ]
}